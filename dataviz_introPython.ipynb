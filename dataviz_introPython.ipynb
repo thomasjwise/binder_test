{
 "cells": [
  {
   "cell_type": "markdown",
   "metadata": {},
   "source": [
    "# Introduction to Data Visualization in Python\n",
    "### Thomas Wise\n",
    "### May 16th 2022 \n",
    "\n",
    "## Introduction \n",
    "\n",
    "Welcome! This document is written to accompany *Introduction to Data Visualization in Python*, providing further elaboration of the topics covered in the accompanying presentation. This also acts as a walk through for the practical exercises completed during the session, with worksheets also available in the provided zip files. \n",
    "\n",
    "### Session Objectives \n",
    "\n",
    "- To be introduced \n",
    "- To understand the benefits of different plotting methods ()\n",
    "- To use business style data to generate clear, accessible data visualizations \n",
    "\n",
    "### Transferable Skills \n",
    "\n",
    "- Presenting and Disseminating Data Effectively \n",
    "- Basic Introduction to the use of Python\n",
    "- Basic visualization techniques using \n",
    "- Creative problem solving & debugging\n",
    "\n",
    "### Schedule \n",
    "\n",
    "- Part 1: Core Plotting Techniques \n",
    "    - Section 1: Review of good practice, *theory*\n",
    "    - Section 2: \n",
    "    - Section 3: Fundamental of \n",
    "    \n",
    "- Part 2: Plotting 101\n",
    "    - Section 1: Scatter plots in \n",
    "    - Section 2: Descriptive plots in \n",
    "    - Section 3: Colours and Shapes \n",
    "    - Section 4: Legend Specification \n",
    "    - Section 5: Saving and Exporting Plots \n",
    "    \n",
    "### Software, Files and Content \n",
    "\n",
    "This workshop, files and content is available in the accompanying .zip file, with this all being able to be run through [Binder](<https://mybinder.org/>). This is a free platform which you can sign up for using your personal details. "
   ]
  },
  {
   "cell_type": "markdown",
   "metadata": {},
   "source": []
  }
 ],
 "metadata": {
  "kernelspec": {
   "display_name": "Python 3",
   "language": "python",
   "name": "python3"
  },
  "language_info": {
   "codemirror_mode": {
    "name": "ipython",
    "version": 3
   },
   "file_extension": ".py",
   "mimetype": "text/x-python",
   "name": "python",
   "nbconvert_exporter": "python",
   "pygments_lexer": "ipython3",
   "version": "3.8.3"
  }
 },
 "nbformat": 4,
 "nbformat_minor": 4
}
